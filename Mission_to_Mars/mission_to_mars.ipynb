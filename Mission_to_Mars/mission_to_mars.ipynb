{
 "cells": [
  {
   "cell_type": "code",
   "execution_count": 214,
   "metadata": {},
   "outputs": [],
   "source": [
    "# MISSION TO MARS SCRAPING PROJECT #\n",
    "\n",
    "# Project dependencies\n",
    "from splinter import Browser\n",
    "from bs4 import BeautifulSoup\n",
    "import pandas as pd\n",
    "import requests\n",
    "import pymongo"
   ]
  },
  {
   "cell_type": "code",
   "execution_count": 215,
   "metadata": {},
   "outputs": [],
   "source": [
    "# Point to the chromedriver for splinter\n",
    "executable_path = {'executable_path':\"C:\\\\Users\\\\dwint\\\\web-scraping-challenge\\\\Mission_to_Mars\\\\chromedriver\"}\n",
    "browser = Browser(\"chrome\", **executable_path, headless = False)"
   ]
  },
  {
   "cell_type": "code",
   "execution_count": 57,
   "metadata": {},
   "outputs": [],
   "source": [
    "# SCRAPE MARS NEWS ARTICLE #\n",
    "\n",
    "# Visit NASA Mars News url using splinter\n",
    "news_url = \"https://mars.nasa.gov/news/?page=0&per_page=40&order=publish_date+desc%2Ccreated_at+desc&search=&category=19%2C165%2C184%2C204&blank_scope=Latest\"\n",
    "browser.visit(news_url)\n",
    "\n",
    "# Create html object and parse with BeautifulSoup\n",
    "html_article = browser.html\n",
    "\n",
    "soup = BeautifulSoup(html_article, 'html.parser')"
   ]
  },
  {
   "cell_type": "code",
   "execution_count": 58,
   "metadata": {},
   "outputs": [
    {
     "name": "stdout",
     "output_type": "stream",
     "text": [
      "Mars InSight Lander to Push on Top of the 'Mole'\n",
      "Engineers have a plan for pushing down on the heat probe, which has been stuck at the Martian surface for a year.\n"
     ]
    }
   ],
   "source": [
    "# Scrape and print the latest Mars news title and paragraph\n",
    "news_title = soup.find('div', class_='content_title').text\n",
    "news_p = soup.find('div', class_='article_teaser_body').text\n",
    "\n",
    "print(news_title)\n",
    "print(news_p)"
   ]
  },
  {
   "cell_type": "code",
   "execution_count": 114,
   "metadata": {},
   "outputs": [],
   "source": [
    "# SCRAPE MARS IMAGES # \n",
    "\n",
    "# Visit NASA JPL space images using splinter\n",
    "mars_image_url = \"https://www.jpl.nasa.gov/spaceimages/?search=&category=Mars\"\n",
    "browser.visit(mars_image_url)\n",
    "\n",
    "# Create html object and parse with BeautifulSoup\n",
    "html_image = browser.html\n",
    "\n",
    "soup = BeautifulSoup(html_image, 'html.parser')"
   ]
  },
  {
   "cell_type": "code",
   "execution_count": 116,
   "metadata": {},
   "outputs": [
    {
     "name": "stdout",
     "output_type": "stream",
     "text": [
      "https://www.jpl.nasa.gov/spaceimages/images/wallpaper/PIA19039-1920x1200.jpg\n"
     ]
    }
   ],
   "source": [
    "# Scrape image url from the style tag \n",
    "mars_image_url = soup.find('article')['style'].replace('background-image: url(','').replace(');', '')[1:-1]\n",
    "\n",
    "# Main website url \n",
    "main_url = \"https://www.jpl.nasa.gov\"\n",
    "\n",
    "# Combine main website url with scrapped image url\n",
    "featured_image_url = main_url + mars_image_url\n",
    "\n",
    "# Print the combined url link to the featured_image\n",
    "print(featured_image_url)"
   ]
  },
  {
   "cell_type": "code",
   "execution_count": 236,
   "metadata": {},
   "outputs": [],
   "source": [
    "# SCRAPE MARS WEATHER # \n",
    "\n",
    "# Visit Mars weather twitter using splinter\n",
    "mars_weather_url = \"https://twitter.com/marswxreport?lang=en\"\n",
    "browser.visit(mars_weather_url)\n",
    "\n",
    "# Create html object and parse with BeautifulSoup\n",
    "html_weather = browser.html\n",
    "\n",
    "soup = BeautifulSoup(html_weather, 'html.parser')"
   ]
  },
  {
   "cell_type": "code",
   "execution_count": 242,
   "metadata": {},
   "outputs": [
    {
     "name": "stdout",
     "output_type": "stream",
     "text": [
      "<div class=\"js-tweet-text-container\">\n",
      " <p class=\"TweetTextSize TweetTextSize--normal js-tweet-text tweet-text\" data-aria-label-part=\"0\" lang=\"en\">\n",
      "  InSight sol 439 (2020-02-20) low -94.7ºC (-138.4ºF) high -9.3ºC (15.2ºF)\n",
      "winds from the SSE at 6.5 m/s (14.6 mph) gusting to 23.2 m/s (51.9 mph)\n",
      "pressure at 6.30 hPa\n",
      "  <a class=\"twitter-timeline-link u-hidden\" data-pre-embedded=\"true\" dir=\"ltr\" href=\"https://t.co/VRiv3fQH9p\">\n",
      "   pic.twitter.com/VRiv3fQH9p\n",
      "  </a>\n",
      " </p>\n",
      "</div>\n",
      "\n"
     ]
    }
   ],
   "source": [
    "# Scrape and print recent Mars weather\n",
    "mars_tweet = soup.find('div', class_='js-tweet-text-container')\n",
    "print(mars_tweet.prettify())"
   ]
  },
  {
   "cell_type": "code",
   "execution_count": 243,
   "metadata": {},
   "outputs": [
    {
     "name": "stdout",
     "output_type": "stream",
     "text": [
      "InSight sol 439 (2020-02-20) low -94.7ºC (-138.4ºF) high -9.3ºC (15.2ºF)\n",
      "winds from the SSE at 6.5 m/s (14.6 mph) gusting to 23.2 m/s (51.9 mph)\n",
      "pressure at 6.30 hPapic.twitter.com/VRiv3fQH9p\n"
     ]
    }
   ],
   "source": [
    "mars_weather = mars_tweet.p.text \n",
    "print(mars_weather)"
   ]
  },
  {
   "cell_type": "code",
   "execution_count": 82,
   "metadata": {},
   "outputs": [
    {
     "name": "stdout",
     "output_type": "stream",
     "text": [
      "           Mars Feature                           Fact\n",
      "0  Equatorial Diameter:                       6,792 km\n",
      "1       Polar Diameter:                       6,752 km\n",
      "2                 Mass:  6.39 × 10^23 kg (0.11 Earths)\n",
      "3                Moons:            2 (Phobos & Deimos)\n",
      "4       Orbit Distance:       227,943,824 km (1.38 AU)\n",
      "5         Orbit Period:           687 days (1.9 years)\n",
      "6  Surface Temperature:                   -87 to -5 °C\n",
      "7         First Record:              2nd millennium BC\n",
      "8          Recorded By:           Egyptian astronomers\n"
     ]
    }
   ],
   "source": [
    "# SCRAPE MARS FACTS # \n",
    "\n",
    "# Visit https://space-facts.com/mars/ using pandas\n",
    "# Read Mars facts table using pandas\n",
    "mars_facts_df = pd.read_html('https://space-facts.com/mars/')[2]\n",
    "\n",
    "# Use Mars facts to create DataFrame\n",
    "mars_facts_df.columns=[\"Mars Feature\", \"Fact\"]\n",
    "#mars_facts_df = mars_facts_df.set_index('Mars Feature')\n",
    "\n",
    "print(mars_facts_df)"
   ]
  },
  {
   "cell_type": "code",
   "execution_count": 83,
   "metadata": {},
   "outputs": [
    {
     "name": "stdout",
     "output_type": "stream",
     "text": [
      "<table border=\"1\" class=\"dataframe\">\n",
      "  <thead>\n",
      "    <tr style=\"text-align: right;\">\n",
      "      <th></th>\n",
      "      <th>Mars Feature</th>\n",
      "      <th>Fact</th>\n",
      "    </tr>\n",
      "  </thead>\n",
      "  <tbody>\n",
      "    <tr>\n",
      "      <th>0</th>\n",
      "      <td>Equatorial Diameter:</td>\n",
      "      <td>6,792 km</td>\n",
      "    </tr>\n",
      "    <tr>\n",
      "      <th>1</th>\n",
      "      <td>Polar Diameter:</td>\n",
      "      <td>6,752 km</td>\n",
      "    </tr>\n",
      "    <tr>\n",
      "      <th>2</th>\n",
      "      <td>Mass:</td>\n",
      "      <td>6.39 × 10^23 kg (0.11 Earths)</td>\n",
      "    </tr>\n",
      "    <tr>\n",
      "      <th>3</th>\n",
      "      <td>Moons:</td>\n",
      "      <td>2 (Phobos &amp; Deimos)</td>\n",
      "    </tr>\n",
      "    <tr>\n",
      "      <th>4</th>\n",
      "      <td>Orbit Distance:</td>\n",
      "      <td>227,943,824 km (1.38 AU)</td>\n",
      "    </tr>\n",
      "    <tr>\n",
      "      <th>5</th>\n",
      "      <td>Orbit Period:</td>\n",
      "      <td>687 days (1.9 years)</td>\n",
      "    </tr>\n",
      "    <tr>\n",
      "      <th>6</th>\n",
      "      <td>Surface Temperature:</td>\n",
      "      <td>-87 to -5 °C</td>\n",
      "    </tr>\n",
      "    <tr>\n",
      "      <th>7</th>\n",
      "      <td>First Record:</td>\n",
      "      <td>2nd millennium BC</td>\n",
      "    </tr>\n",
      "    <tr>\n",
      "      <th>8</th>\n",
      "      <td>Recorded By:</td>\n",
      "      <td>Egyptian astronomers</td>\n",
      "    </tr>\n",
      "  </tbody>\n",
      "</table>\n"
     ]
    }
   ],
   "source": [
    "# Convert DataFrame to html\n",
    "mars_facts_df = mars_facts_df.to_html()\n",
    "\n",
    "print(mars_facts_df)"
   ]
  },
  {
   "cell_type": "code",
   "execution_count": null,
   "metadata": {},
   "outputs": [],
   "source": [
    "# SCRAPE MARS HEMISPHERE IMAGES #"
   ]
  },
  {
   "cell_type": "code",
   "execution_count": 84,
   "metadata": {},
   "outputs": [],
   "source": [
    "# Visit the US Astrogeology website using splinter\n",
    "mars_hemispheres_url = 'https://astrogeology.usgs.gov/search/results?q=hemisphere+enhanced&k1=target&v1=Mars'\n",
    "browser.visit(mars_hemispheres_url)\n",
    "\n",
    "# Create html object and parse with BeautifulSoup\n",
    "html_hemispheres = browser.html\n",
    "\n",
    "soup = BeautifulSoup(html_hemispheres, 'html.parser')"
   ]
  },
  {
   "cell_type": "code",
   "execution_count": 85,
   "metadata": {},
   "outputs": [
    {
     "name": "stdout",
     "output_type": "stream",
     "text": [
      "Cerberus Hemisphere Enhanced\n",
      "https://astrogeology.usgs.gov/cache/images/cfa62af2557222a02478f1fcd781d445_cerberus_enhanced.tif_full.jpg\n",
      "Schiaparelli Hemisphere Enhanced\n",
      "https://astrogeology.usgs.gov/cache/images/3cdd1cbf5e0813bba925c9030d13b62e_schiaparelli_enhanced.tif_full.jpg\n",
      "Syrtis Major Hemisphere Enhanced\n",
      "https://astrogeology.usgs.gov/cache/images/ae209b4e408bb6c3e67b6af38168cf28_syrtis_major_enhanced.tif_full.jpg\n",
      "Valles Marineris Hemisphere Enhanced\n",
      "https://astrogeology.usgs.gov/cache/images/7cf2da4bf549ed01c17f206327be4db7_valles_marineris_enhanced.tif_full.jpg\n"
     ]
    }
   ],
   "source": [
    "# Create a Hemisphere Image list using the dictionary for each hemisphere title and image url string. \n",
    "# Hemisphere Image list code fashioned after coding by vabigdatamover @ https://github.com/vabigdatamover/web-scraping-challenge/blob/master/Missions_to_Mars/mission_to_mars.ipynb\n",
    "hemisphere_image_list = []\n",
    "\n",
    "hemisphere_titles = soup.find_all('h3')\n",
    "\n",
    "for i in range(len(hemisphere_titles)):\n",
    "    hemisphere_title = hemisphere_titles[i].text\n",
    "    print(hemisphere_title)\n",
    "    \n",
    "    hemisphere_images = browser.find_by_tag('h3')\n",
    "    hemisphere_images[i].click()\n",
    "    \n",
    "    html_hemispheres = browser.html\n",
    "    soup = BeautifulSoup(html_hemispheres, 'html.parser')\n",
    "    \n",
    "    hemi_img_url = soup.find('img', class_='wide-image')['src']\n",
    "    hemi_img_url = \"https://astrogeology.usgs.gov\" + hemi_img_url\n",
    "    print(hemi_img_url)\n",
    "    \n",
    "    hemisphere_dict = {\"title\": hemisphere_title, \"img_url\":hemi_img_url}\n",
    "    hemisphere_image_list.append(hemisphere_dict)\n",
    "    \n",
    "    browser.back()"
   ]
  },
  {
   "cell_type": "code",
   "execution_count": 86,
   "metadata": {},
   "outputs": [
    {
     "name": "stdout",
     "output_type": "stream",
     "text": [
      "[{'title': 'Cerberus Hemisphere Enhanced', 'img_url': 'https://astrogeology.usgs.gov/cache/images/cfa62af2557222a02478f1fcd781d445_cerberus_enhanced.tif_full.jpg'}, {'title': 'Schiaparelli Hemisphere Enhanced', 'img_url': 'https://astrogeology.usgs.gov/cache/images/3cdd1cbf5e0813bba925c9030d13b62e_schiaparelli_enhanced.tif_full.jpg'}, {'title': 'Syrtis Major Hemisphere Enhanced', 'img_url': 'https://astrogeology.usgs.gov/cache/images/ae209b4e408bb6c3e67b6af38168cf28_syrtis_major_enhanced.tif_full.jpg'}, {'title': 'Valles Marineris Hemisphere Enhanced', 'img_url': 'https://astrogeology.usgs.gov/cache/images/7cf2da4bf549ed01c17f206327be4db7_valles_marineris_enhanced.tif_full.jpg'}]\n"
     ]
    }
   ],
   "source": [
    "# Print Hemisphere Image list\n",
    "print(hemisphere_image_list)"
   ]
  }
 ],
 "metadata": {
  "kernelspec": {
   "display_name": "Python 3",
   "language": "python",
   "name": "python3"
  },
  "language_info": {
   "codemirror_mode": {
    "name": "ipython",
    "version": 3
   },
   "file_extension": ".py",
   "mimetype": "text/x-python",
   "name": "python",
   "nbconvert_exporter": "python",
   "pygments_lexer": "ipython3",
   "version": "3.6.9"
  }
 },
 "nbformat": 4,
 "nbformat_minor": 2
}